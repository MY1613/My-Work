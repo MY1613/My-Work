{
  "nbformat": 4,
  "nbformat_minor": 0,
  "metadata": {
    "colab": {
      "provenance": [],
      "authorship_tag": "ABX9TyMuhQZ4Z75fiKtNnRChlB7G",
      "include_colab_link": true
    },
    "kernelspec": {
      "name": "python3",
      "display_name": "Python 3"
    },
    "language_info": {
      "name": "python"
    },
    "accelerator": "GPU",
    "gpuClass": "standard"
  },
  "cells": [
    {
      "cell_type": "markdown",
      "metadata": {
        "id": "view-in-github",
        "colab_type": "text"
      },
      "source": [
        "<a href=\"https://colab.research.google.com/github/MY1613/My-Work/blob/main/%EC%8B%AC%EC%A0%84%EB%8F%84_%EB%8D%B0%EC%9D%B4%ED%84%B0%EB%A5%BC_%EC%9D%B4%EC%9A%A9%ED%95%9C_%EC%8B%AC%EC%9E%A5%EC%9D%98_%EC%A0%95%EC%83%81_%EB%B9%84%EC%A0%95%EC%83%81_%EC%97%AC%EB%B6%80_%EC%9E%90%EB%8F%99_%EC%9D%B8%EC%8B%9D_%ED%94%84%EB%A1%9C%EA%B7%B8%EB%9E%A8.ipynb\" target=\"_parent\"><img src=\"https://colab.research.google.com/assets/colab-badge.svg\" alt=\"Open In Colab\"/></a>"
      ]
    },
    {
      "cell_type": "markdown",
      "source": [
        "# [ 심전도 데이터를 이용한 심장의 정상 / 비정상 여부 자동 인식 프로그램 ]"
      ],
      "metadata": {
        "id": "r-vQNzizKX6F"
      }
    },
    {
      "cell_type": "code",
      "execution_count": 95,
      "metadata": {
        "id": "i7T7417ffwXW"
      },
      "outputs": [],
      "source": [
        "# pwd # 현재 위치 확인"
      ]
    },
    {
      "cell_type": "code",
      "source": [
        "# mkdir gdrive #  gdrive 디렉토리 생성"
      ],
      "metadata": {
        "id": "_htXMdDgfxjZ"
      },
      "execution_count": 96,
      "outputs": []
    },
    {
      "cell_type": "code",
      "source": [
        "# ls"
      ],
      "metadata": {
        "id": "xo80DdtMf9Qe"
      },
      "execution_count": 97,
      "outputs": []
    },
    {
      "cell_type": "markdown",
      "source": [
        "### 심전도 데이터 준비 "
      ],
      "metadata": {
        "id": "PD5GclFSiv6H"
      }
    },
    {
      "cell_type": "code",
      "source": [
        "from google.colab import drive # 구글 드라이브와 마운트 하기 위해 구글.코랩 드라이브 호출\n",
        "\n",
        "drive.mount('/content/gdrive')  # mount()함수 : 구글 드라이브에 연동"
      ],
      "metadata": {
        "colab": {
          "base_uri": "https://localhost:8080/"
        },
        "id": "XM3bble7gG-f",
        "outputId": "06155991-cf17-4407-d8aa-a282b564508e"
      },
      "execution_count": 98,
      "outputs": [
        {
          "output_type": "stream",
          "name": "stdout",
          "text": [
            "Drive already mounted at /content/gdrive; to attempt to forcibly remount, call drive.mount(\"/content/gdrive\", force_remount=True).\n"
          ]
        }
      ]
    },
    {
      "cell_type": "code",
      "source": [
        "# cd '/content/gdrive/My Drive/Colab Notebooks/' # cd 폴더 위치변경"
      ],
      "metadata": {
        "id": "qBLfaOS1gUbI"
      },
      "execution_count": 99,
      "outputs": []
    },
    {
      "cell_type": "code",
      "source": [
        "# mkdir ecg  # ecg 디렉토리 생성"
      ],
      "metadata": {
        "id": "GRHp6oEDhB2x"
      },
      "execution_count": 100,
      "outputs": []
    },
    {
      "cell_type": "markdown",
      "source": [
        "#### 심전도 데이터 확인"
      ],
      "metadata": {
        "id": "25YTk3w4i3vU"
      }
    },
    {
      "cell_type": "code",
      "source": [
        "import pandas as pd   # 데이터처리를 위한 라이브러리 호출 \n",
        "\n",
        "data_no = pd.read_csv('/content/gdrive/My Drive/Colab Notebooks/ecg/ptbdb_normal.csv') #read_csv() : ptbdb_normal.csv 파일 읽어서 data_no에 저장 : 건강한 피험자 데이터\n",
        "data_ab = pd.read_csv('/content/gdrive/My Drive/Colab Notebooks/ecg/ptbdb_abnormal.csv') # read_csv() : csv 파일 읽어서 data_ab에 저장 - 환자 데이터"
      ],
      "metadata": {
        "id": "ot77hbaDhK7j"
      },
      "execution_count": 101,
      "outputs": []
    },
    {
      "cell_type": "code",
      "source": [
        "data_no  # data_no 데이터 확인"
      ],
      "metadata": {
        "colab": {
          "base_uri": "https://localhost:8080/",
          "height": 505
        },
        "id": "KnswF71Z_-e2",
        "outputId": "533bb463-6e08-4061-9a4b-75324057638d"
      },
      "execution_count": 102,
      "outputs": [
        {
          "output_type": "execute_result",
          "data": {
            "text/plain": [
              "      1.000000000000000000e+00  9.003241658210754395e-01  \\\n",
              "0                     1.000000                  0.794681   \n",
              "1                     0.909029                  0.791482   \n",
              "2                     1.000000                  0.478893   \n",
              "3                     1.000000                  0.867238   \n",
              "4                     0.948983                  0.505265   \n",
              "...                        ...                       ...   \n",
              "4040                  1.000000                  0.929586   \n",
              "4041                  1.000000                  0.637579   \n",
              "4042                  1.000000                  0.872574   \n",
              "4043                  0.915983                  0.529373   \n",
              "4044                  1.000000                  0.838643   \n",
              "\n",
              "      3.585899472236633301e-01  5.145867168903350830e-02  \\\n",
              "0                     0.375387                  0.116883   \n",
              "1                     0.423169                  0.186712   \n",
              "2                     0.056760                  0.064176   \n",
              "3                     0.201360                  0.099349   \n",
              "4                     0.004176                  0.022513   \n",
              "...                        ...                       ...   \n",
              "4040                  0.503550                  0.293491   \n",
              "4041                  0.154837                  0.061983   \n",
              "4042                  0.465071                  0.232212   \n",
              "4043                  0.288406                  0.144536   \n",
              "4044                  0.390567                  0.191146   \n",
              "\n",
              "      4.659643396735191345e-02  1.268233358860015869e-01  \\\n",
              "0                     0.000000                  0.171923   \n",
              "1                     0.000000                  0.007836   \n",
              "2                     0.081289                  0.072732   \n",
              "3                     0.141336                  0.120934   \n",
              "4                     0.059550                  0.107298   \n",
              "...                        ...                       ...   \n",
              "4040                  0.169822                  0.159763   \n",
              "4041                  0.088965                  0.083374   \n",
              "4042                  0.126132                  0.155886   \n",
              "4043                  0.171802                  0.180669   \n",
              "4044                  0.033513                  0.055854   \n",
              "\n",
              "      1.333063244819641113e-01  1.191247999668121338e-01  \\\n",
              "0                     0.283859                  0.293754   \n",
              "1                     0.063032                  0.077002   \n",
              "2                     0.055619                  0.048774   \n",
              "3                     0.108516                  0.096393   \n",
              "4                     0.110385                  0.111293   \n",
              "...                        ...                       ...   \n",
              "4040                  0.130769                  0.125444   \n",
              "4041                  0.065143                  0.057365   \n",
              "4042                  0.174644                  0.190168   \n",
              "4043                  0.177566                  0.176458   \n",
              "4044                  0.129086                  0.147290   \n",
              "\n",
              "      1.106158867478370667e-01  1.130470037460327148e-01  ...  \\\n",
              "0                     0.325912                  0.345083  ...   \n",
              "1                     0.074957                  0.077342  ...   \n",
              "2                     0.054478                  0.041643  ...   \n",
              "3                     0.093436                  0.100828  ...   \n",
              "4                     0.116558                  0.118192  ...   \n",
              "...                        ...                       ...  ...   \n",
              "4040                  0.137278                  0.111243  ...   \n",
              "4041                  0.060039                  0.060039  ...   \n",
              "4042                  0.203752                  0.168823  ...   \n",
              "4043                  0.178896                  0.180448  ...   \n",
              "4044                  0.155151                  0.165494  ...   \n",
              "\n",
              "      0.000000000000000000e+00.56  0.000000000000000000e+00.57  \\\n",
              "0                             0.0                          0.0   \n",
              "1                             0.0                          0.0   \n",
              "2                             0.0                          0.0   \n",
              "3                             0.0                          0.0   \n",
              "4                             0.0                          0.0   \n",
              "...                           ...                          ...   \n",
              "4040                          0.0                          0.0   \n",
              "4041                          0.0                          0.0   \n",
              "4042                          0.0                          0.0   \n",
              "4043                          0.0                          0.0   \n",
              "4044                          0.0                          0.0   \n",
              "\n",
              "      0.000000000000000000e+00.58  0.000000000000000000e+00.59  \\\n",
              "0                             0.0                          0.0   \n",
              "1                             0.0                          0.0   \n",
              "2                             0.0                          0.0   \n",
              "3                             0.0                          0.0   \n",
              "4                             0.0                          0.0   \n",
              "...                           ...                          ...   \n",
              "4040                          0.0                          0.0   \n",
              "4041                          0.0                          0.0   \n",
              "4042                          0.0                          0.0   \n",
              "4043                          0.0                          0.0   \n",
              "4044                          0.0                          0.0   \n",
              "\n",
              "      0.000000000000000000e+00.60  0.000000000000000000e+00.61  \\\n",
              "0                             0.0                          0.0   \n",
              "1                             0.0                          0.0   \n",
              "2                             0.0                          0.0   \n",
              "3                             0.0                          0.0   \n",
              "4                             0.0                          0.0   \n",
              "...                           ...                          ...   \n",
              "4040                          0.0                          0.0   \n",
              "4041                          0.0                          0.0   \n",
              "4042                          0.0                          0.0   \n",
              "4043                          0.0                          0.0   \n",
              "4044                          0.0                          0.0   \n",
              "\n",
              "      0.000000000000000000e+00.62  0.000000000000000000e+00.63  \\\n",
              "0                             0.0                          0.0   \n",
              "1                             0.0                          0.0   \n",
              "2                             0.0                          0.0   \n",
              "3                             0.0                          0.0   \n",
              "4                             0.0                          0.0   \n",
              "...                           ...                          ...   \n",
              "4040                          0.0                          0.0   \n",
              "4041                          0.0                          0.0   \n",
              "4042                          0.0                          0.0   \n",
              "4043                          0.0                          0.0   \n",
              "4044                          0.0                          0.0   \n",
              "\n",
              "      0.000000000000000000e+00.64  0.000000000000000000e+00.65  \n",
              "0                             0.0                          0.0  \n",
              "1                             0.0                          0.0  \n",
              "2                             0.0                          0.0  \n",
              "3                             0.0                          0.0  \n",
              "4                             0.0                          0.0  \n",
              "...                           ...                          ...  \n",
              "4040                          0.0                          0.0  \n",
              "4041                          0.0                          0.0  \n",
              "4042                          0.0                          0.0  \n",
              "4043                          0.0                          0.0  \n",
              "4044                          0.0                          0.0  \n",
              "\n",
              "[4045 rows x 188 columns]"
            ],
            "text/html": [
              "\n",
              "  <div id=\"df-10d202a4-e183-43bc-8eca-3fbad242a8ba\">\n",
              "    <div class=\"colab-df-container\">\n",
              "      <div>\n",
              "<style scoped>\n",
              "    .dataframe tbody tr th:only-of-type {\n",
              "        vertical-align: middle;\n",
              "    }\n",
              "\n",
              "    .dataframe tbody tr th {\n",
              "        vertical-align: top;\n",
              "    }\n",
              "\n",
              "    .dataframe thead th {\n",
              "        text-align: right;\n",
              "    }\n",
              "</style>\n",
              "<table border=\"1\" class=\"dataframe\">\n",
              "  <thead>\n",
              "    <tr style=\"text-align: right;\">\n",
              "      <th></th>\n",
              "      <th>1.000000000000000000e+00</th>\n",
              "      <th>9.003241658210754395e-01</th>\n",
              "      <th>3.585899472236633301e-01</th>\n",
              "      <th>5.145867168903350830e-02</th>\n",
              "      <th>4.659643396735191345e-02</th>\n",
              "      <th>1.268233358860015869e-01</th>\n",
              "      <th>1.333063244819641113e-01</th>\n",
              "      <th>1.191247999668121338e-01</th>\n",
              "      <th>1.106158867478370667e-01</th>\n",
              "      <th>1.130470037460327148e-01</th>\n",
              "      <th>...</th>\n",
              "      <th>0.000000000000000000e+00.56</th>\n",
              "      <th>0.000000000000000000e+00.57</th>\n",
              "      <th>0.000000000000000000e+00.58</th>\n",
              "      <th>0.000000000000000000e+00.59</th>\n",
              "      <th>0.000000000000000000e+00.60</th>\n",
              "      <th>0.000000000000000000e+00.61</th>\n",
              "      <th>0.000000000000000000e+00.62</th>\n",
              "      <th>0.000000000000000000e+00.63</th>\n",
              "      <th>0.000000000000000000e+00.64</th>\n",
              "      <th>0.000000000000000000e+00.65</th>\n",
              "    </tr>\n",
              "  </thead>\n",
              "  <tbody>\n",
              "    <tr>\n",
              "      <th>0</th>\n",
              "      <td>1.000000</td>\n",
              "      <td>0.794681</td>\n",
              "      <td>0.375387</td>\n",
              "      <td>0.116883</td>\n",
              "      <td>0.000000</td>\n",
              "      <td>0.171923</td>\n",
              "      <td>0.283859</td>\n",
              "      <td>0.293754</td>\n",
              "      <td>0.325912</td>\n",
              "      <td>0.345083</td>\n",
              "      <td>...</td>\n",
              "      <td>0.0</td>\n",
              "      <td>0.0</td>\n",
              "      <td>0.0</td>\n",
              "      <td>0.0</td>\n",
              "      <td>0.0</td>\n",
              "      <td>0.0</td>\n",
              "      <td>0.0</td>\n",
              "      <td>0.0</td>\n",
              "      <td>0.0</td>\n",
              "      <td>0.0</td>\n",
              "    </tr>\n",
              "    <tr>\n",
              "      <th>1</th>\n",
              "      <td>0.909029</td>\n",
              "      <td>0.791482</td>\n",
              "      <td>0.423169</td>\n",
              "      <td>0.186712</td>\n",
              "      <td>0.000000</td>\n",
              "      <td>0.007836</td>\n",
              "      <td>0.063032</td>\n",
              "      <td>0.077002</td>\n",
              "      <td>0.074957</td>\n",
              "      <td>0.077342</td>\n",
              "      <td>...</td>\n",
              "      <td>0.0</td>\n",
              "      <td>0.0</td>\n",
              "      <td>0.0</td>\n",
              "      <td>0.0</td>\n",
              "      <td>0.0</td>\n",
              "      <td>0.0</td>\n",
              "      <td>0.0</td>\n",
              "      <td>0.0</td>\n",
              "      <td>0.0</td>\n",
              "      <td>0.0</td>\n",
              "    </tr>\n",
              "    <tr>\n",
              "      <th>2</th>\n",
              "      <td>1.000000</td>\n",
              "      <td>0.478893</td>\n",
              "      <td>0.056760</td>\n",
              "      <td>0.064176</td>\n",
              "      <td>0.081289</td>\n",
              "      <td>0.072732</td>\n",
              "      <td>0.055619</td>\n",
              "      <td>0.048774</td>\n",
              "      <td>0.054478</td>\n",
              "      <td>0.041643</td>\n",
              "      <td>...</td>\n",
              "      <td>0.0</td>\n",
              "      <td>0.0</td>\n",
              "      <td>0.0</td>\n",
              "      <td>0.0</td>\n",
              "      <td>0.0</td>\n",
              "      <td>0.0</td>\n",
              "      <td>0.0</td>\n",
              "      <td>0.0</td>\n",
              "      <td>0.0</td>\n",
              "      <td>0.0</td>\n",
              "    </tr>\n",
              "    <tr>\n",
              "      <th>3</th>\n",
              "      <td>1.000000</td>\n",
              "      <td>0.867238</td>\n",
              "      <td>0.201360</td>\n",
              "      <td>0.099349</td>\n",
              "      <td>0.141336</td>\n",
              "      <td>0.120934</td>\n",
              "      <td>0.108516</td>\n",
              "      <td>0.096393</td>\n",
              "      <td>0.093436</td>\n",
              "      <td>0.100828</td>\n",
              "      <td>...</td>\n",
              "      <td>0.0</td>\n",
              "      <td>0.0</td>\n",
              "      <td>0.0</td>\n",
              "      <td>0.0</td>\n",
              "      <td>0.0</td>\n",
              "      <td>0.0</td>\n",
              "      <td>0.0</td>\n",
              "      <td>0.0</td>\n",
              "      <td>0.0</td>\n",
              "      <td>0.0</td>\n",
              "    </tr>\n",
              "    <tr>\n",
              "      <th>4</th>\n",
              "      <td>0.948983</td>\n",
              "      <td>0.505265</td>\n",
              "      <td>0.004176</td>\n",
              "      <td>0.022513</td>\n",
              "      <td>0.059550</td>\n",
              "      <td>0.107298</td>\n",
              "      <td>0.110385</td>\n",
              "      <td>0.111293</td>\n",
              "      <td>0.116558</td>\n",
              "      <td>0.118192</td>\n",
              "      <td>...</td>\n",
              "      <td>0.0</td>\n",
              "      <td>0.0</td>\n",
              "      <td>0.0</td>\n",
              "      <td>0.0</td>\n",
              "      <td>0.0</td>\n",
              "      <td>0.0</td>\n",
              "      <td>0.0</td>\n",
              "      <td>0.0</td>\n",
              "      <td>0.0</td>\n",
              "      <td>0.0</td>\n",
              "    </tr>\n",
              "    <tr>\n",
              "      <th>...</th>\n",
              "      <td>...</td>\n",
              "      <td>...</td>\n",
              "      <td>...</td>\n",
              "      <td>...</td>\n",
              "      <td>...</td>\n",
              "      <td>...</td>\n",
              "      <td>...</td>\n",
              "      <td>...</td>\n",
              "      <td>...</td>\n",
              "      <td>...</td>\n",
              "      <td>...</td>\n",
              "      <td>...</td>\n",
              "      <td>...</td>\n",
              "      <td>...</td>\n",
              "      <td>...</td>\n",
              "      <td>...</td>\n",
              "      <td>...</td>\n",
              "      <td>...</td>\n",
              "      <td>...</td>\n",
              "      <td>...</td>\n",
              "      <td>...</td>\n",
              "    </tr>\n",
              "    <tr>\n",
              "      <th>4040</th>\n",
              "      <td>1.000000</td>\n",
              "      <td>0.929586</td>\n",
              "      <td>0.503550</td>\n",
              "      <td>0.293491</td>\n",
              "      <td>0.169822</td>\n",
              "      <td>0.159763</td>\n",
              "      <td>0.130769</td>\n",
              "      <td>0.125444</td>\n",
              "      <td>0.137278</td>\n",
              "      <td>0.111243</td>\n",
              "      <td>...</td>\n",
              "      <td>0.0</td>\n",
              "      <td>0.0</td>\n",
              "      <td>0.0</td>\n",
              "      <td>0.0</td>\n",
              "      <td>0.0</td>\n",
              "      <td>0.0</td>\n",
              "      <td>0.0</td>\n",
              "      <td>0.0</td>\n",
              "      <td>0.0</td>\n",
              "      <td>0.0</td>\n",
              "    </tr>\n",
              "    <tr>\n",
              "      <th>4041</th>\n",
              "      <td>1.000000</td>\n",
              "      <td>0.637579</td>\n",
              "      <td>0.154837</td>\n",
              "      <td>0.061983</td>\n",
              "      <td>0.088965</td>\n",
              "      <td>0.083374</td>\n",
              "      <td>0.065143</td>\n",
              "      <td>0.057365</td>\n",
              "      <td>0.060039</td>\n",
              "      <td>0.060039</td>\n",
              "      <td>...</td>\n",
              "      <td>0.0</td>\n",
              "      <td>0.0</td>\n",
              "      <td>0.0</td>\n",
              "      <td>0.0</td>\n",
              "      <td>0.0</td>\n",
              "      <td>0.0</td>\n",
              "      <td>0.0</td>\n",
              "      <td>0.0</td>\n",
              "      <td>0.0</td>\n",
              "      <td>0.0</td>\n",
              "    </tr>\n",
              "    <tr>\n",
              "      <th>4042</th>\n",
              "      <td>1.000000</td>\n",
              "      <td>0.872574</td>\n",
              "      <td>0.465071</td>\n",
              "      <td>0.232212</td>\n",
              "      <td>0.126132</td>\n",
              "      <td>0.155886</td>\n",
              "      <td>0.174644</td>\n",
              "      <td>0.190168</td>\n",
              "      <td>0.203752</td>\n",
              "      <td>0.168823</td>\n",
              "      <td>...</td>\n",
              "      <td>0.0</td>\n",
              "      <td>0.0</td>\n",
              "      <td>0.0</td>\n",
              "      <td>0.0</td>\n",
              "      <td>0.0</td>\n",
              "      <td>0.0</td>\n",
              "      <td>0.0</td>\n",
              "      <td>0.0</td>\n",
              "      <td>0.0</td>\n",
              "      <td>0.0</td>\n",
              "    </tr>\n",
              "    <tr>\n",
              "      <th>4043</th>\n",
              "      <td>0.915983</td>\n",
              "      <td>0.529373</td>\n",
              "      <td>0.288406</td>\n",
              "      <td>0.144536</td>\n",
              "      <td>0.171802</td>\n",
              "      <td>0.180669</td>\n",
              "      <td>0.177566</td>\n",
              "      <td>0.176458</td>\n",
              "      <td>0.178896</td>\n",
              "      <td>0.180448</td>\n",
              "      <td>...</td>\n",
              "      <td>0.0</td>\n",
              "      <td>0.0</td>\n",
              "      <td>0.0</td>\n",
              "      <td>0.0</td>\n",
              "      <td>0.0</td>\n",
              "      <td>0.0</td>\n",
              "      <td>0.0</td>\n",
              "      <td>0.0</td>\n",
              "      <td>0.0</td>\n",
              "      <td>0.0</td>\n",
              "    </tr>\n",
              "    <tr>\n",
              "      <th>4044</th>\n",
              "      <td>1.000000</td>\n",
              "      <td>0.838643</td>\n",
              "      <td>0.390567</td>\n",
              "      <td>0.191146</td>\n",
              "      <td>0.033513</td>\n",
              "      <td>0.055854</td>\n",
              "      <td>0.129086</td>\n",
              "      <td>0.147290</td>\n",
              "      <td>0.155151</td>\n",
              "      <td>0.165494</td>\n",
              "      <td>...</td>\n",
              "      <td>0.0</td>\n",
              "      <td>0.0</td>\n",
              "      <td>0.0</td>\n",
              "      <td>0.0</td>\n",
              "      <td>0.0</td>\n",
              "      <td>0.0</td>\n",
              "      <td>0.0</td>\n",
              "      <td>0.0</td>\n",
              "      <td>0.0</td>\n",
              "      <td>0.0</td>\n",
              "    </tr>\n",
              "  </tbody>\n",
              "</table>\n",
              "<p>4045 rows × 188 columns</p>\n",
              "</div>\n",
              "      <button class=\"colab-df-convert\" onclick=\"convertToInteractive('df-10d202a4-e183-43bc-8eca-3fbad242a8ba')\"\n",
              "              title=\"Convert this dataframe to an interactive table.\"\n",
              "              style=\"display:none;\">\n",
              "        \n",
              "  <svg xmlns=\"http://www.w3.org/2000/svg\" height=\"24px\"viewBox=\"0 0 24 24\"\n",
              "       width=\"24px\">\n",
              "    <path d=\"M0 0h24v24H0V0z\" fill=\"none\"/>\n",
              "    <path d=\"M18.56 5.44l.94 2.06.94-2.06 2.06-.94-2.06-.94-.94-2.06-.94 2.06-2.06.94zm-11 1L8.5 8.5l.94-2.06 2.06-.94-2.06-.94L8.5 2.5l-.94 2.06-2.06.94zm10 10l.94 2.06.94-2.06 2.06-.94-2.06-.94-.94-2.06-.94 2.06-2.06.94z\"/><path d=\"M17.41 7.96l-1.37-1.37c-.4-.4-.92-.59-1.43-.59-.52 0-1.04.2-1.43.59L10.3 9.45l-7.72 7.72c-.78.78-.78 2.05 0 2.83L4 21.41c.39.39.9.59 1.41.59.51 0 1.02-.2 1.41-.59l7.78-7.78 2.81-2.81c.8-.78.8-2.07 0-2.86zM5.41 20L4 18.59l7.72-7.72 1.47 1.35L5.41 20z\"/>\n",
              "  </svg>\n",
              "      </button>\n",
              "      \n",
              "  <style>\n",
              "    .colab-df-container {\n",
              "      display:flex;\n",
              "      flex-wrap:wrap;\n",
              "      gap: 12px;\n",
              "    }\n",
              "\n",
              "    .colab-df-convert {\n",
              "      background-color: #E8F0FE;\n",
              "      border: none;\n",
              "      border-radius: 50%;\n",
              "      cursor: pointer;\n",
              "      display: none;\n",
              "      fill: #1967D2;\n",
              "      height: 32px;\n",
              "      padding: 0 0 0 0;\n",
              "      width: 32px;\n",
              "    }\n",
              "\n",
              "    .colab-df-convert:hover {\n",
              "      background-color: #E2EBFA;\n",
              "      box-shadow: 0px 1px 2px rgba(60, 64, 67, 0.3), 0px 1px 3px 1px rgba(60, 64, 67, 0.15);\n",
              "      fill: #174EA6;\n",
              "    }\n",
              "\n",
              "    [theme=dark] .colab-df-convert {\n",
              "      background-color: #3B4455;\n",
              "      fill: #D2E3FC;\n",
              "    }\n",
              "\n",
              "    [theme=dark] .colab-df-convert:hover {\n",
              "      background-color: #434B5C;\n",
              "      box-shadow: 0px 1px 3px 1px rgba(0, 0, 0, 0.15);\n",
              "      filter: drop-shadow(0px 1px 2px rgba(0, 0, 0, 0.3));\n",
              "      fill: #FFFFFF;\n",
              "    }\n",
              "  </style>\n",
              "\n",
              "      <script>\n",
              "        const buttonEl =\n",
              "          document.querySelector('#df-10d202a4-e183-43bc-8eca-3fbad242a8ba button.colab-df-convert');\n",
              "        buttonEl.style.display =\n",
              "          google.colab.kernel.accessAllowed ? 'block' : 'none';\n",
              "\n",
              "        async function convertToInteractive(key) {\n",
              "          const element = document.querySelector('#df-10d202a4-e183-43bc-8eca-3fbad242a8ba');\n",
              "          const dataTable =\n",
              "            await google.colab.kernel.invokeFunction('convertToInteractive',\n",
              "                                                     [key], {});\n",
              "          if (!dataTable) return;\n",
              "\n",
              "          const docLinkHtml = 'Like what you see? Visit the ' +\n",
              "            '<a target=\"_blank\" href=https://colab.research.google.com/notebooks/data_table.ipynb>data table notebook</a>'\n",
              "            + ' to learn more about interactive tables.';\n",
              "          element.innerHTML = '';\n",
              "          dataTable['output_type'] = 'display_data';\n",
              "          await google.colab.output.renderOutput(dataTable, element);\n",
              "          const docLink = document.createElement('div');\n",
              "          docLink.innerHTML = docLinkHtml;\n",
              "          element.appendChild(docLink);\n",
              "        }\n",
              "      </script>\n",
              "    </div>\n",
              "  </div>\n",
              "  "
            ]
          },
          "metadata": {},
          "execution_count": 102
        }
      ]
    },
    {
      "cell_type": "code",
      "source": [
        "data_ab  # data_ab 데이터 확인"
      ],
      "metadata": {
        "colab": {
          "base_uri": "https://localhost:8080/",
          "height": 505
        },
        "id": "Y_KzVLP3AAD3",
        "outputId": "9cfb67f8-5547-4703-f83f-4575fb5f8fe7"
      },
      "execution_count": 103,
      "outputs": [
        {
          "output_type": "execute_result",
          "data": {
            "text/plain": [
              "       9.322328567504882812e-01  8.696785569190979004e-01  \\\n",
              "0                      1.000000                  0.606941   \n",
              "1                      1.000000                  0.951613   \n",
              "2                      0.977819                  0.899261   \n",
              "3                      0.935618                  0.801661   \n",
              "4                      0.925265                  0.433352   \n",
              "...                         ...                       ...   \n",
              "10500                  0.981409                  1.000000   \n",
              "10501                  0.906250                  0.922379   \n",
              "10502                  1.000000                  0.867971   \n",
              "10503                  1.000000                  0.984672   \n",
              "10504                  0.997886                  0.700317   \n",
              "\n",
              "       8.861859440803527832e-01  9.296264052391052246e-01  \\\n",
              "0                      0.384181                  0.254237   \n",
              "1                      0.923963                  0.853303   \n",
              "2                      0.230129                  0.032348   \n",
              "3                      0.805815                  1.000000   \n",
              "4                      0.073620                  0.079197   \n",
              "...                         ...                       ...   \n",
              "10500                  0.559171                  0.287093   \n",
              "10501                  0.878024                  0.810484   \n",
              "10502                  0.674122                  0.470332   \n",
              "10503                  0.658888                  0.556394   \n",
              "10504                  0.464059                  0.318182   \n",
              "\n",
              "       9.087749719619750977e-01  9.339704513549804688e-01  \\\n",
              "0                      0.223567                  0.276836   \n",
              "1                      0.791859                  0.734255   \n",
              "2                      0.142329                  0.223660   \n",
              "3                      0.722741                  0.480789   \n",
              "4                      0.136643                  0.182934   \n",
              "...                         ...                       ...   \n",
              "10500                  0.196639                  0.204862   \n",
              "10501                  0.712702                  0.667339   \n",
              "10502                  0.296987                  0.169307   \n",
              "10503                  0.446809                  0.395790   \n",
              "10504                  0.233615                  0.184989   \n",
              "\n",
              "       8.010425567626953125e-01  7.497828006744384766e-01  \\\n",
              "0                      0.253430                  0.184826   \n",
              "1                      0.672043                  0.685100   \n",
              "2                      0.328096                  0.367837   \n",
              "3                      0.454829                  0.319834   \n",
              "4                      0.182934                  0.182376   \n",
              "...                         ...                       ...   \n",
              "10500                  0.215946                  0.243833   \n",
              "10501                  0.608871                  0.527218   \n",
              "10502                  0.077664                  0.081392   \n",
              "10503                  0.315260                  0.276367   \n",
              "10504                  0.124207                  0.082981   \n",
              "\n",
              "       6.872285008430480957e-01  6.350998878479003906e-01  ...  \\\n",
              "0                      0.153349                  0.121872  ...   \n",
              "1                      0.670507                  0.667435  ...   \n",
              "2                      0.381701                  0.389094  ...   \n",
              "3                      0.266874                  0.308411  ...   \n",
              "4                      0.196877                  0.203569  ...   \n",
              "...                         ...                       ...  ...   \n",
              "10500                  0.242760                  0.250268  ...   \n",
              "10501                  0.480847                  0.442540  ...   \n",
              "10502                  0.074868                  0.089779  ...   \n",
              "10503                  0.261039                  0.258522  ...   \n",
              "10504                  0.087738                  0.063953  ...   \n",
              "\n",
              "       0.000000000000000000e+00.117  0.000000000000000000e+00.118  \\\n",
              "0                               0.0                           0.0   \n",
              "1                               0.0                           0.0   \n",
              "2                               0.0                           0.0   \n",
              "3                               0.0                           0.0   \n",
              "4                               0.0                           0.0   \n",
              "...                             ...                           ...   \n",
              "10500                           0.0                           0.0   \n",
              "10501                           0.0                           0.0   \n",
              "10502                           0.0                           0.0   \n",
              "10503                           0.0                           0.0   \n",
              "10504                           0.0                           0.0   \n",
              "\n",
              "       0.000000000000000000e+00.119  0.000000000000000000e+00.120  \\\n",
              "0                               0.0                           0.0   \n",
              "1                               0.0                           0.0   \n",
              "2                               0.0                           0.0   \n",
              "3                               0.0                           0.0   \n",
              "4                               0.0                           0.0   \n",
              "...                             ...                           ...   \n",
              "10500                           0.0                           0.0   \n",
              "10501                           0.0                           0.0   \n",
              "10502                           0.0                           0.0   \n",
              "10503                           0.0                           0.0   \n",
              "10504                           0.0                           0.0   \n",
              "\n",
              "       0.000000000000000000e+00.121  0.000000000000000000e+00.122  \\\n",
              "0                               0.0                           0.0   \n",
              "1                               0.0                           0.0   \n",
              "2                               0.0                           0.0   \n",
              "3                               0.0                           0.0   \n",
              "4                               0.0                           0.0   \n",
              "...                             ...                           ...   \n",
              "10500                           0.0                           0.0   \n",
              "10501                           0.0                           0.0   \n",
              "10502                           0.0                           0.0   \n",
              "10503                           0.0                           0.0   \n",
              "10504                           0.0                           0.0   \n",
              "\n",
              "       0.000000000000000000e+00.123  0.000000000000000000e+00.124  \\\n",
              "0                               0.0                           0.0   \n",
              "1                               0.0                           0.0   \n",
              "2                               0.0                           0.0   \n",
              "3                               0.0                           0.0   \n",
              "4                               0.0                           0.0   \n",
              "...                             ...                           ...   \n",
              "10500                           0.0                           0.0   \n",
              "10501                           0.0                           0.0   \n",
              "10502                           0.0                           0.0   \n",
              "10503                           0.0                           0.0   \n",
              "10504                           0.0                           0.0   \n",
              "\n",
              "       0.000000000000000000e+00.125  1.000000000000000000e+00.1  \n",
              "0                               0.0                         1.0  \n",
              "1                               0.0                         1.0  \n",
              "2                               0.0                         1.0  \n",
              "3                               0.0                         1.0  \n",
              "4                               0.0                         1.0  \n",
              "...                             ...                         ...  \n",
              "10500                           0.0                         1.0  \n",
              "10501                           0.0                         1.0  \n",
              "10502                           0.0                         1.0  \n",
              "10503                           0.0                         1.0  \n",
              "10504                           0.0                         1.0  \n",
              "\n",
              "[10505 rows x 188 columns]"
            ],
            "text/html": [
              "\n",
              "  <div id=\"df-8a985017-abd9-47cd-9bc0-11a687e203bb\">\n",
              "    <div class=\"colab-df-container\">\n",
              "      <div>\n",
              "<style scoped>\n",
              "    .dataframe tbody tr th:only-of-type {\n",
              "        vertical-align: middle;\n",
              "    }\n",
              "\n",
              "    .dataframe tbody tr th {\n",
              "        vertical-align: top;\n",
              "    }\n",
              "\n",
              "    .dataframe thead th {\n",
              "        text-align: right;\n",
              "    }\n",
              "</style>\n",
              "<table border=\"1\" class=\"dataframe\">\n",
              "  <thead>\n",
              "    <tr style=\"text-align: right;\">\n",
              "      <th></th>\n",
              "      <th>9.322328567504882812e-01</th>\n",
              "      <th>8.696785569190979004e-01</th>\n",
              "      <th>8.861859440803527832e-01</th>\n",
              "      <th>9.296264052391052246e-01</th>\n",
              "      <th>9.087749719619750977e-01</th>\n",
              "      <th>9.339704513549804688e-01</th>\n",
              "      <th>8.010425567626953125e-01</th>\n",
              "      <th>7.497828006744384766e-01</th>\n",
              "      <th>6.872285008430480957e-01</th>\n",
              "      <th>6.350998878479003906e-01</th>\n",
              "      <th>...</th>\n",
              "      <th>0.000000000000000000e+00.117</th>\n",
              "      <th>0.000000000000000000e+00.118</th>\n",
              "      <th>0.000000000000000000e+00.119</th>\n",
              "      <th>0.000000000000000000e+00.120</th>\n",
              "      <th>0.000000000000000000e+00.121</th>\n",
              "      <th>0.000000000000000000e+00.122</th>\n",
              "      <th>0.000000000000000000e+00.123</th>\n",
              "      <th>0.000000000000000000e+00.124</th>\n",
              "      <th>0.000000000000000000e+00.125</th>\n",
              "      <th>1.000000000000000000e+00.1</th>\n",
              "    </tr>\n",
              "  </thead>\n",
              "  <tbody>\n",
              "    <tr>\n",
              "      <th>0</th>\n",
              "      <td>1.000000</td>\n",
              "      <td>0.606941</td>\n",
              "      <td>0.384181</td>\n",
              "      <td>0.254237</td>\n",
              "      <td>0.223567</td>\n",
              "      <td>0.276836</td>\n",
              "      <td>0.253430</td>\n",
              "      <td>0.184826</td>\n",
              "      <td>0.153349</td>\n",
              "      <td>0.121872</td>\n",
              "      <td>...</td>\n",
              "      <td>0.0</td>\n",
              "      <td>0.0</td>\n",
              "      <td>0.0</td>\n",
              "      <td>0.0</td>\n",
              "      <td>0.0</td>\n",
              "      <td>0.0</td>\n",
              "      <td>0.0</td>\n",
              "      <td>0.0</td>\n",
              "      <td>0.0</td>\n",
              "      <td>1.0</td>\n",
              "    </tr>\n",
              "    <tr>\n",
              "      <th>1</th>\n",
              "      <td>1.000000</td>\n",
              "      <td>0.951613</td>\n",
              "      <td>0.923963</td>\n",
              "      <td>0.853303</td>\n",
              "      <td>0.791859</td>\n",
              "      <td>0.734255</td>\n",
              "      <td>0.672043</td>\n",
              "      <td>0.685100</td>\n",
              "      <td>0.670507</td>\n",
              "      <td>0.667435</td>\n",
              "      <td>...</td>\n",
              "      <td>0.0</td>\n",
              "      <td>0.0</td>\n",
              "      <td>0.0</td>\n",
              "      <td>0.0</td>\n",
              "      <td>0.0</td>\n",
              "      <td>0.0</td>\n",
              "      <td>0.0</td>\n",
              "      <td>0.0</td>\n",
              "      <td>0.0</td>\n",
              "      <td>1.0</td>\n",
              "    </tr>\n",
              "    <tr>\n",
              "      <th>2</th>\n",
              "      <td>0.977819</td>\n",
              "      <td>0.899261</td>\n",
              "      <td>0.230129</td>\n",
              "      <td>0.032348</td>\n",
              "      <td>0.142329</td>\n",
              "      <td>0.223660</td>\n",
              "      <td>0.328096</td>\n",
              "      <td>0.367837</td>\n",
              "      <td>0.381701</td>\n",
              "      <td>0.389094</td>\n",
              "      <td>...</td>\n",
              "      <td>0.0</td>\n",
              "      <td>0.0</td>\n",
              "      <td>0.0</td>\n",
              "      <td>0.0</td>\n",
              "      <td>0.0</td>\n",
              "      <td>0.0</td>\n",
              "      <td>0.0</td>\n",
              "      <td>0.0</td>\n",
              "      <td>0.0</td>\n",
              "      <td>1.0</td>\n",
              "    </tr>\n",
              "    <tr>\n",
              "      <th>3</th>\n",
              "      <td>0.935618</td>\n",
              "      <td>0.801661</td>\n",
              "      <td>0.805815</td>\n",
              "      <td>1.000000</td>\n",
              "      <td>0.722741</td>\n",
              "      <td>0.480789</td>\n",
              "      <td>0.454829</td>\n",
              "      <td>0.319834</td>\n",
              "      <td>0.266874</td>\n",
              "      <td>0.308411</td>\n",
              "      <td>...</td>\n",
              "      <td>0.0</td>\n",
              "      <td>0.0</td>\n",
              "      <td>0.0</td>\n",
              "      <td>0.0</td>\n",
              "      <td>0.0</td>\n",
              "      <td>0.0</td>\n",
              "      <td>0.0</td>\n",
              "      <td>0.0</td>\n",
              "      <td>0.0</td>\n",
              "      <td>1.0</td>\n",
              "    </tr>\n",
              "    <tr>\n",
              "      <th>4</th>\n",
              "      <td>0.925265</td>\n",
              "      <td>0.433352</td>\n",
              "      <td>0.073620</td>\n",
              "      <td>0.079197</td>\n",
              "      <td>0.136643</td>\n",
              "      <td>0.182934</td>\n",
              "      <td>0.182934</td>\n",
              "      <td>0.182376</td>\n",
              "      <td>0.196877</td>\n",
              "      <td>0.203569</td>\n",
              "      <td>...</td>\n",
              "      <td>0.0</td>\n",
              "      <td>0.0</td>\n",
              "      <td>0.0</td>\n",
              "      <td>0.0</td>\n",
              "      <td>0.0</td>\n",
              "      <td>0.0</td>\n",
              "      <td>0.0</td>\n",
              "      <td>0.0</td>\n",
              "      <td>0.0</td>\n",
              "      <td>1.0</td>\n",
              "    </tr>\n",
              "    <tr>\n",
              "      <th>...</th>\n",
              "      <td>...</td>\n",
              "      <td>...</td>\n",
              "      <td>...</td>\n",
              "      <td>...</td>\n",
              "      <td>...</td>\n",
              "      <td>...</td>\n",
              "      <td>...</td>\n",
              "      <td>...</td>\n",
              "      <td>...</td>\n",
              "      <td>...</td>\n",
              "      <td>...</td>\n",
              "      <td>...</td>\n",
              "      <td>...</td>\n",
              "      <td>...</td>\n",
              "      <td>...</td>\n",
              "      <td>...</td>\n",
              "      <td>...</td>\n",
              "      <td>...</td>\n",
              "      <td>...</td>\n",
              "      <td>...</td>\n",
              "      <td>...</td>\n",
              "    </tr>\n",
              "    <tr>\n",
              "      <th>10500</th>\n",
              "      <td>0.981409</td>\n",
              "      <td>1.000000</td>\n",
              "      <td>0.559171</td>\n",
              "      <td>0.287093</td>\n",
              "      <td>0.196639</td>\n",
              "      <td>0.204862</td>\n",
              "      <td>0.215946</td>\n",
              "      <td>0.243833</td>\n",
              "      <td>0.242760</td>\n",
              "      <td>0.250268</td>\n",
              "      <td>...</td>\n",
              "      <td>0.0</td>\n",
              "      <td>0.0</td>\n",
              "      <td>0.0</td>\n",
              "      <td>0.0</td>\n",
              "      <td>0.0</td>\n",
              "      <td>0.0</td>\n",
              "      <td>0.0</td>\n",
              "      <td>0.0</td>\n",
              "      <td>0.0</td>\n",
              "      <td>1.0</td>\n",
              "    </tr>\n",
              "    <tr>\n",
              "      <th>10501</th>\n",
              "      <td>0.906250</td>\n",
              "      <td>0.922379</td>\n",
              "      <td>0.878024</td>\n",
              "      <td>0.810484</td>\n",
              "      <td>0.712702</td>\n",
              "      <td>0.667339</td>\n",
              "      <td>0.608871</td>\n",
              "      <td>0.527218</td>\n",
              "      <td>0.480847</td>\n",
              "      <td>0.442540</td>\n",
              "      <td>...</td>\n",
              "      <td>0.0</td>\n",
              "      <td>0.0</td>\n",
              "      <td>0.0</td>\n",
              "      <td>0.0</td>\n",
              "      <td>0.0</td>\n",
              "      <td>0.0</td>\n",
              "      <td>0.0</td>\n",
              "      <td>0.0</td>\n",
              "      <td>0.0</td>\n",
              "      <td>1.0</td>\n",
              "    </tr>\n",
              "    <tr>\n",
              "      <th>10502</th>\n",
              "      <td>1.000000</td>\n",
              "      <td>0.867971</td>\n",
              "      <td>0.674122</td>\n",
              "      <td>0.470332</td>\n",
              "      <td>0.296987</td>\n",
              "      <td>0.169307</td>\n",
              "      <td>0.077664</td>\n",
              "      <td>0.081392</td>\n",
              "      <td>0.074868</td>\n",
              "      <td>0.089779</td>\n",
              "      <td>...</td>\n",
              "      <td>0.0</td>\n",
              "      <td>0.0</td>\n",
              "      <td>0.0</td>\n",
              "      <td>0.0</td>\n",
              "      <td>0.0</td>\n",
              "      <td>0.0</td>\n",
              "      <td>0.0</td>\n",
              "      <td>0.0</td>\n",
              "      <td>0.0</td>\n",
              "      <td>1.0</td>\n",
              "    </tr>\n",
              "    <tr>\n",
              "      <th>10503</th>\n",
              "      <td>1.000000</td>\n",
              "      <td>0.984672</td>\n",
              "      <td>0.658888</td>\n",
              "      <td>0.556394</td>\n",
              "      <td>0.446809</td>\n",
              "      <td>0.395790</td>\n",
              "      <td>0.315260</td>\n",
              "      <td>0.276367</td>\n",
              "      <td>0.261039</td>\n",
              "      <td>0.258522</td>\n",
              "      <td>...</td>\n",
              "      <td>0.0</td>\n",
              "      <td>0.0</td>\n",
              "      <td>0.0</td>\n",
              "      <td>0.0</td>\n",
              "      <td>0.0</td>\n",
              "      <td>0.0</td>\n",
              "      <td>0.0</td>\n",
              "      <td>0.0</td>\n",
              "      <td>0.0</td>\n",
              "      <td>1.0</td>\n",
              "    </tr>\n",
              "    <tr>\n",
              "      <th>10504</th>\n",
              "      <td>0.997886</td>\n",
              "      <td>0.700317</td>\n",
              "      <td>0.464059</td>\n",
              "      <td>0.318182</td>\n",
              "      <td>0.233615</td>\n",
              "      <td>0.184989</td>\n",
              "      <td>0.124207</td>\n",
              "      <td>0.082981</td>\n",
              "      <td>0.087738</td>\n",
              "      <td>0.063953</td>\n",
              "      <td>...</td>\n",
              "      <td>0.0</td>\n",
              "      <td>0.0</td>\n",
              "      <td>0.0</td>\n",
              "      <td>0.0</td>\n",
              "      <td>0.0</td>\n",
              "      <td>0.0</td>\n",
              "      <td>0.0</td>\n",
              "      <td>0.0</td>\n",
              "      <td>0.0</td>\n",
              "      <td>1.0</td>\n",
              "    </tr>\n",
              "  </tbody>\n",
              "</table>\n",
              "<p>10505 rows × 188 columns</p>\n",
              "</div>\n",
              "      <button class=\"colab-df-convert\" onclick=\"convertToInteractive('df-8a985017-abd9-47cd-9bc0-11a687e203bb')\"\n",
              "              title=\"Convert this dataframe to an interactive table.\"\n",
              "              style=\"display:none;\">\n",
              "        \n",
              "  <svg xmlns=\"http://www.w3.org/2000/svg\" height=\"24px\"viewBox=\"0 0 24 24\"\n",
              "       width=\"24px\">\n",
              "    <path d=\"M0 0h24v24H0V0z\" fill=\"none\"/>\n",
              "    <path d=\"M18.56 5.44l.94 2.06.94-2.06 2.06-.94-2.06-.94-.94-2.06-.94 2.06-2.06.94zm-11 1L8.5 8.5l.94-2.06 2.06-.94-2.06-.94L8.5 2.5l-.94 2.06-2.06.94zm10 10l.94 2.06.94-2.06 2.06-.94-2.06-.94-.94-2.06-.94 2.06-2.06.94z\"/><path d=\"M17.41 7.96l-1.37-1.37c-.4-.4-.92-.59-1.43-.59-.52 0-1.04.2-1.43.59L10.3 9.45l-7.72 7.72c-.78.78-.78 2.05 0 2.83L4 21.41c.39.39.9.59 1.41.59.51 0 1.02-.2 1.41-.59l7.78-7.78 2.81-2.81c.8-.78.8-2.07 0-2.86zM5.41 20L4 18.59l7.72-7.72 1.47 1.35L5.41 20z\"/>\n",
              "  </svg>\n",
              "      </button>\n",
              "      \n",
              "  <style>\n",
              "    .colab-df-container {\n",
              "      display:flex;\n",
              "      flex-wrap:wrap;\n",
              "      gap: 12px;\n",
              "    }\n",
              "\n",
              "    .colab-df-convert {\n",
              "      background-color: #E8F0FE;\n",
              "      border: none;\n",
              "      border-radius: 50%;\n",
              "      cursor: pointer;\n",
              "      display: none;\n",
              "      fill: #1967D2;\n",
              "      height: 32px;\n",
              "      padding: 0 0 0 0;\n",
              "      width: 32px;\n",
              "    }\n",
              "\n",
              "    .colab-df-convert:hover {\n",
              "      background-color: #E2EBFA;\n",
              "      box-shadow: 0px 1px 2px rgba(60, 64, 67, 0.3), 0px 1px 3px 1px rgba(60, 64, 67, 0.15);\n",
              "      fill: #174EA6;\n",
              "    }\n",
              "\n",
              "    [theme=dark] .colab-df-convert {\n",
              "      background-color: #3B4455;\n",
              "      fill: #D2E3FC;\n",
              "    }\n",
              "\n",
              "    [theme=dark] .colab-df-convert:hover {\n",
              "      background-color: #434B5C;\n",
              "      box-shadow: 0px 1px 3px 1px rgba(0, 0, 0, 0.15);\n",
              "      filter: drop-shadow(0px 1px 2px rgba(0, 0, 0, 0.3));\n",
              "      fill: #FFFFFF;\n",
              "    }\n",
              "  </style>\n",
              "\n",
              "      <script>\n",
              "        const buttonEl =\n",
              "          document.querySelector('#df-8a985017-abd9-47cd-9bc0-11a687e203bb button.colab-df-convert');\n",
              "        buttonEl.style.display =\n",
              "          google.colab.kernel.accessAllowed ? 'block' : 'none';\n",
              "\n",
              "        async function convertToInteractive(key) {\n",
              "          const element = document.querySelector('#df-8a985017-abd9-47cd-9bc0-11a687e203bb');\n",
              "          const dataTable =\n",
              "            await google.colab.kernel.invokeFunction('convertToInteractive',\n",
              "                                                     [key], {});\n",
              "          if (!dataTable) return;\n",
              "\n",
              "          const docLinkHtml = 'Like what you see? Visit the ' +\n",
              "            '<a target=\"_blank\" href=https://colab.research.google.com/notebooks/data_table.ipynb>data table notebook</a>'\n",
              "            + ' to learn more about interactive tables.';\n",
              "          element.innerHTML = '';\n",
              "          dataTable['output_type'] = 'display_data';\n",
              "          await google.colab.output.renderOutput(dataTable, element);\n",
              "          const docLink = document.createElement('div');\n",
              "          docLink.innerHTML = docLinkHtml;\n",
              "          element.appendChild(docLink);\n",
              "        }\n",
              "      </script>\n",
              "    </div>\n",
              "  </div>\n",
              "  "
            ]
          },
          "metadata": {},
          "execution_count": 103
        }
      ]
    },
    {
      "cell_type": "markdown",
      "source": [
        "### 데이터 기초 분석"
      ],
      "metadata": {
        "id": "weOXBLlajClE"
      }
    },
    {
      "cell_type": "code",
      "source": [
        "import matplotlib.pyplot as plt # 데이터를 차트나 플롯으로 시각화 하기 위해 맷플롯립 패키지를 plt라는 이름으로 호출\n",
        "import numpy as np  # 수치 데이터를 다루기 위해 넘파이 패키지를 np라는 이름으로 호출\n",
        "import pandas as pd # 데이터 처리를 위해 판다스 라이브러리를 as 라는 이름으로 호출\n",
        "\n",
        "data_no = pd.read_csv('/content/gdrive/My Drive/Colab Notebooks/ecg/ptbdb_normal.csv')   # normal 엑셀 파일을 read_csv()로 불러와 pd 형태로 data_no에 저장\n",
        "data_ab = pd.read_csv('/content/gdrive/My Drive/Colab Notebooks/ecg/ptbdb_abnormal.csv')  # abnormal 엑셀 파일을 read_csv()로 불러와 pd 형태로 data_ab에 저장\n",
        "\n",
        "data_no = np.array(data_no)  # 판다스 형태로 된 데이터를 array 형태로 바꿈\n",
        "data_ab = np.array(data_ab)  # 판다스 형태로 된 데이터를 array 형태로 바꿈"
      ],
      "metadata": {
        "id": "RLUo45E1iUGW"
      },
      "execution_count": 104,
      "outputs": []
    },
    {
      "cell_type": "code",
      "source": [
        "data_no.shape  # .shape로 data_no 행열의 모양 확인"
      ],
      "metadata": {
        "colab": {
          "base_uri": "https://localhost:8080/"
        },
        "id": "17emm9TnjKJX",
        "outputId": "e67955fb-7bdf-4a61-ed34-d5eb91a65b4e"
      },
      "execution_count": 105,
      "outputs": [
        {
          "output_type": "execute_result",
          "data": {
            "text/plain": [
              "(4045, 188)"
            ]
          },
          "metadata": {},
          "execution_count": 105
        }
      ]
    },
    {
      "cell_type": "code",
      "source": [
        "data_ab.shape # .shape로 data_ab 행열의 모양 확인"
      ],
      "metadata": {
        "colab": {
          "base_uri": "https://localhost:8080/"
        },
        "id": "yL3xG_gCBKt2",
        "outputId": "dc251236-f879-41bc-97b1-aae541817d2f"
      },
      "execution_count": 106,
      "outputs": [
        {
          "output_type": "execute_result",
          "data": {
            "text/plain": [
              "(10505, 188)"
            ]
          },
          "metadata": {},
          "execution_count": 106
        }
      ]
    },
    {
      "cell_type": "code",
      "source": [
        "plt.plot(data_no[0,:]) # plot() : data_no의 0번째의 0 ~ 끝까지를 그래프로 출력"
      ],
      "metadata": {
        "colab": {
          "base_uri": "https://localhost:8080/",
          "height": 283
        },
        "id": "w8keg3PojMKm",
        "outputId": "bb08089e-dcde-4f5e-b547-406cea302cf4"
      },
      "execution_count": 107,
      "outputs": [
        {
          "output_type": "execute_result",
          "data": {
            "text/plain": [
              "[<matplotlib.lines.Line2D at 0x7f91256d8460>]"
            ]
          },
          "metadata": {},
          "execution_count": 107
        },
        {
          "output_type": "display_data",
          "data": {
            "text/plain": [
              "<Figure size 432x288 with 1 Axes>"
            ],
            "image/png": "[encoded data removed]"
          },
          "metadata": {
            "needs_background": "light"
          }
        }
      ]
    },
    {
      "cell_type": "markdown",
      "source": [
        "## 딥러닝"
      ],
      "metadata": {
        "id": "0lpIpzV4jP6r"
      }
    },
    {
      "cell_type": "markdown",
      "source": [
        "##### 1. 데이터를 사용하기 위한 변환"
      ],
      "metadata": {
        "id": "UBJiSg1oJixT"
      }
    },
    {
      "cell_type": "code",
      "source": [
        "nTrain = 3000  # 훈련 데이터 3000개\n",
        "nTest = 1000  # 테스트 데이터 1000개\n",
        "\n",
        "x_train = np.concatenate((data_no[:nTrain,:], data_ab[:nTrain,:]),0)  # np.concatenate()함수 : 행렬끼리 붙여주는 함수 , 파라미터 (data_no[:nTrain,:], data_ab[:nTrain,:]) 각각 3000개 를 튜플로 묶어서 하나로\n",
        "y_train = np.concatenate((np.zeros(nTrain,), np.ones(nTrain,)),0) # nomal = 0 3000개를 zeros()를 이용해 만들고, abnormal = 1 3000개를 ones()를 이용해 만듬\n",
        "\n",
        "x_test = np.concatenate((data_no[nTrain:nTrain+nTest,:], data_ab[nTrain:nTrain+nTest,:]),0) # data_no[nTrain:nTrain+nTest,:] nTrain 부터 nTrain + nTest까지  \n",
        "y_test = np.concatenate((np.zeros(nTest,), np.ones(nTest,)),0) # nTest 갯수 만큼 zeros() 이용하여 0 행렬 1000개, ones() 이용하여 1 1000개를 concatenate()로 붙여줌"
      ],
      "metadata": {
        "id": "CDnhuZUvjRTP"
      },
      "execution_count": 108,
      "outputs": []
    },
    {
      "cell_type": "code",
      "source": [
        "x_train.shape # .shape를 이용하여 x_train의 행열 모양 확인"
      ],
      "metadata": {
        "colab": {
          "base_uri": "https://localhost:8080/"
        },
        "id": "hhFvHPiyDQGr",
        "outputId": "52357c2c-db0d-4953-987a-933f39f7299d"
      },
      "execution_count": 109,
      "outputs": [
        {
          "output_type": "execute_result",
          "data": {
            "text/plain": [
              "(6000, 188)"
            ]
          },
          "metadata": {},
          "execution_count": 109
        }
      ]
    },
    {
      "cell_type": "code",
      "source": [
        "y_train.shape  # .shape를 이용하여 y_train의 행열 모양 확인"
      ],
      "metadata": {
        "colab": {
          "base_uri": "https://localhost:8080/"
        },
        "id": "Z5-Ki6D0EMCq",
        "outputId": "0b3b34d8-8f5b-4a07-e2bb-5df62cc15da5"
      },
      "execution_count": 110,
      "outputs": [
        {
          "output_type": "execute_result",
          "data": {
            "text/plain": [
              "(6000,)"
            ]
          },
          "metadata": {},
          "execution_count": 110
        }
      ]
    },
    {
      "cell_type": "code",
      "source": [
        "y_train  # 행렬에 0과 1이 잘 들어있는지 확인"
      ],
      "metadata": {
        "colab": {
          "base_uri": "https://localhost:8080/"
        },
        "id": "FoRSOyZ0ERbO",
        "outputId": "fdd16689-2e94-40be-9461-3beca51c256e"
      },
      "execution_count": 111,
      "outputs": [
        {
          "output_type": "execute_result",
          "data": {
            "text/plain": [
              "array([0., 0., 0., ..., 1., 1., 1.])"
            ]
          },
          "metadata": {},
          "execution_count": 111
        }
      ]
    },
    {
      "cell_type": "code",
      "source": [
        "from tensorflow.keras.utils import to_categorical # 원핫인코딩을 수행하기 위한 to_categorical를 사용하기위해 tensorflow.keras.utils에서 호출   \n",
        "\n",
        "y_test = to_categorical(y_test) # 케라스에서 to_categorical()함수에 배열값을 전달하면 원-핫-인코딩을 함\n",
        "y_train = to_categorical(y_train) # to_categorical()함수를 이용하여 y_train 값을 원핫 인고킹 방식으로 변환\n",
        "\n",
        "x_train = np.expand_dims(x_train,-1)  # np.expand_dims() : 배열의 차원을 추가 해줌 -> 합성곱 적용을 위해\n",
        "x_test = np.expand_dims(x_test,-1)  # np.expand_dims() : 배열의 차원을 추가 해줌 -> 합성곱 적용을 위해"
      ],
      "metadata": {
        "id": "fbl1L9WvjT-v"
      },
      "execution_count": 112,
      "outputs": []
    },
    {
      "cell_type": "code",
      "source": [
        "x_train.shape # 차원 추가 후 모양 확인"
      ],
      "metadata": {
        "colab": {
          "base_uri": "https://localhost:8080/"
        },
        "id": "GOOiNGhSFrHC",
        "outputId": "75ddc569-61bc-4a0f-a768-c4f29a47848d"
      },
      "execution_count": 113,
      "outputs": [
        {
          "output_type": "execute_result",
          "data": {
            "text/plain": [
              "(6000, 188, 1)"
            ]
          },
          "metadata": {},
          "execution_count": 113
        }
      ]
    },
    {
      "cell_type": "code",
      "source": [
        "x_test.shape # 차원 추가 후 모양 확인"
      ],
      "metadata": {
        "colab": {
          "base_uri": "https://localhost:8080/"
        },
        "id": "Tv-z5sJqGXoi",
        "outputId": "c4be1878-9e83-4051-8e6a-c61e1c426c74"
      },
      "execution_count": 114,
      "outputs": [
        {
          "output_type": "execute_result",
          "data": {
            "text/plain": [
              "(2000, 188, 1)"
            ]
          },
          "metadata": {},
          "execution_count": 114
        }
      ]
    },
    {
      "cell_type": "code",
      "source": [
        "y_train # 모양 확인"
      ],
      "metadata": {
        "colab": {
          "base_uri": "https://localhost:8080/"
        },
        "id": "WTTo4i5iJL9g",
        "outputId": "4f434cd2-b174-46a6-a11f-d29acadd58b6"
      },
      "execution_count": 115,
      "outputs": [
        {
          "output_type": "execute_result",
          "data": {
            "text/plain": [
              "array([[1., 0.],\n",
              "       [1., 0.],\n",
              "       [1., 0.],\n",
              "       ...,\n",
              "       [0., 1.],\n",
              "       [0., 1.],\n",
              "       [0., 1.]], dtype=float32)"
            ]
          },
          "metadata": {},
          "execution_count": 115
        }
      ]
    },
    {
      "cell_type": "code",
      "source": [
        "y_test # 모양 확인"
      ],
      "metadata": {
        "colab": {
          "base_uri": "https://localhost:8080/"
        },
        "id": "QO63a5ZqJeXO",
        "outputId": "3e34a933-5e51-49a4-e7fb-ed9b34783b0d"
      },
      "execution_count": 116,
      "outputs": [
        {
          "output_type": "execute_result",
          "data": {
            "text/plain": [
              "array([[1., 0.],\n",
              "       [1., 0.],\n",
              "       [1., 0.],\n",
              "       ...,\n",
              "       [0., 1.],\n",
              "       [0., 1.],\n",
              "       [0., 1.]], dtype=float32)"
            ]
          },
          "metadata": {},
          "execution_count": 116
        }
      ]
    },
    {
      "cell_type": "markdown",
      "source": [
        "#####2. 딥러닝 네트워크 구조 (모델링)"
      ],
      "metadata": {
        "id": "Q81GL7z3KJNi"
      }
    },
    {
      "cell_type": "code",
      "source": [
        "from tensorflow.keras import Sequential \n",
        "from tensorflow.keras import layers\n",
        "from tensorflow.keras import optimizers\n",
        "\n",
        "# Sequential() 모델 : add()이용해 층 추가: Conv1D 2개 , MaxPooling1D 1개, Conv1D 2개 , MaxPooling1D 1개, LSTM, 완전연결층 Dense\n",
        "model = Sequential() # Sequential()을 이용해 층을 생성하기 위한 model 생성\n",
        "\n",
        "model.add(layers.Conv1D(filters=16, kernel_size= 3, input_shape=(x_train.shape[1], 1), activation='relu'))\n",
        "# Conv1D() : 1D convolution layer (e.g. temporal convolution).\n",
        "# filters = 16 출력 공간의 차원(필터 수), kernel_size= 3 1D 컨볼루션 창의 길이를 지정 가중치 배열의 크기, \n",
        "#input_shape=(x_train.shape[1], 1), activation='relu' 사용할 활성화 함수 relu 0보다 작은 값은 모두 0, 다른값은 그대로\n",
        "model.add(layers.Conv1D(filters=16, kernel_size= 3, activation='relu'))\n",
        "# 합성곱 층\n",
        "model.add(layers.MaxPooling1D(pool_size = 3, strides=2)) \n",
        "# MaxPooling1D() : Max pooling operation for 1D temporal data / 노드의 수 즉 특징의 개수를 줄이기 위한 목적\n",
        "# pool_size = 3 최대 풀링 창의 크기, strides=2 각 풀링 단계에 대해 풀링 창이 이동하는 정도)\n",
        "\n",
        "model.add(layers.Conv1D(filters=32, kernel_size= 3, input_shape=(x_train.shape[1], 1), activation='relu'))\n",
        "# Conv1D(filters = 32 필터 수를 늘려서)\n",
        "model.add(layers.Conv1D(filters=32, kernel_size= 3, activation='relu'))\n",
        "# Conv1D(filters = 32 필터 수를 늘려서)\n",
        "model.add(layers.MaxPooling1D(pool_size = 3, strides=2))\n",
        "# MaxPooling1D() : Max pooling operation for 1D temporal data \n",
        "\n",
        "model.add(layers.LSTM(16)) #LSTM() 장단기 기억층 / 노드 수 16 네트워크 층의 출력 개수 \n",
        "\n",
        "model.add(layers.Dense(units=2, activation='softmax'))\n",
        "# Dense(): units= 출력 뉴련의 수, activation = 'softmax' 다중 클래스 분류    \n",
        "\n",
        "model.compile(loss='categorical_crossentropy', optimizer=optimizers.Adam(learning_rate=0.01), metrics=['accuracy'])\n",
        "# compile() : 모델을 기계가 이해할 수 있도록 컴파일\n",
        "# loss  분류하는 모델 손실함수 설정(다중클래스 분류 categorical_crossentropy) \n",
        "# optimizer 훈련 과정을 설정하는 옵티마이저 설정(학습률 learning_rate =  0.01)\n",
        "# metrics 훈련을 모니터링하기 위한 지표 선택  "
      ],
      "metadata": {
        "id": "40n4O3cXjVuU"
      },
      "execution_count": 117,
      "outputs": []
    },
    {
      "cell_type": "code",
      "source": [
        "model.summary() # summary() : 모델 정보 요약"
      ],
      "metadata": {
        "colab": {
          "base_uri": "https://localhost:8080/"
        },
        "id": "3TYLa-OgbL1R",
        "outputId": "18932114-36ec-49bd-f3d0-599aa9233f63"
      },
      "execution_count": 118,
      "outputs": [
        {
          "output_type": "stream",
          "name": "stdout",
          "text": [
            "Model: \"sequential_3\"\n",
            "_________________________________________________________________\n",
            " Layer (type)                Output Shape              Param #   \n",
            "=================================================================\n",
            " conv1d_12 (Conv1D)          (None, 186, 16)           64        \n",
            "                                                                 \n",
            " conv1d_13 (Conv1D)          (None, 184, 16)           784       \n",
            "                                                                 \n",
            " max_pooling1d_6 (MaxPooling  (None, 91, 16)           0         \n",
            " 1D)                                                             \n",
            "                                                                 \n",
            " conv1d_14 (Conv1D)          (None, 89, 32)            1568      \n",
            "                                                                 \n",
            " conv1d_15 (Conv1D)          (None, 87, 32)            3104      \n",
            "                                                                 \n",
            " max_pooling1d_7 (MaxPooling  (None, 43, 32)           0         \n",
            " 1D)                                                             \n",
            "                                                                 \n",
            " lstm_3 (LSTM)               (None, 16)                3136      \n",
            "                                                                 \n",
            " dense_3 (Dense)             (None, 2)                 34        \n",
            "                                                                 \n",
            "=================================================================\n",
            "Total params: 8,690\n",
            "Trainable params: 8,690\n",
            "Non-trainable params: 0\n",
            "_________________________________________________________________\n"
          ]
        }
      ]
    },
    {
      "cell_type": "code",
      "source": [
        "model.fit(x_train,y_train, epochs = 50, batch_size=128, validation_split=0.2) \n",
        "\n",
        "# fit() 함수로 학습 수행\n",
        "# epochs = 학습할 횟수 50, batch_size = 배치사이즈 128 , validation_split = 검증 데이터 비율 0.2"
      ],
      "metadata": {
        "colab": {
          "base_uri": "https://localhost:8080/"
        },
        "id": "j2XnpVg6jZj8",
        "outputId": "2f269ba2-ddeb-46af-eceb-7e30a16bb1a7"
      },
      "execution_count": 119,
      "outputs": [
        {
          "output_type": "stream",
          "name": "stdout",
          "text": [
            "Epoch 1/50\n",
            "38/38 [==============================] - 3s 22ms/step - loss: 0.6189 - accuracy: 0.6648 - val_loss: 0.7677 - val_accuracy: 0.5083\n",
            "Epoch 2/50\n",
            "38/38 [==============================] - 0s 9ms/step - loss: 0.5833 - accuracy: 0.7110 - val_loss: 0.7833 - val_accuracy: 0.5358\n",
            "Epoch 3/50\n",
            "38/38 [==============================] - 0s 9ms/step - loss: 0.5738 - accuracy: 0.7154 - val_loss: 0.6804 - val_accuracy: 0.5950\n",
            "Epoch 4/50\n",
            "38/38 [==============================] - 0s 9ms/step - loss: 0.5653 - accuracy: 0.7156 - val_loss: 0.8095 - val_accuracy: 0.5200\n",
            "Epoch 5/50\n",
            "38/38 [==============================] - 0s 8ms/step - loss: 0.5619 - accuracy: 0.7194 - val_loss: 0.7524 - val_accuracy: 0.5758\n",
            "Epoch 6/50\n",
            "38/38 [==============================] - 0s 8ms/step - loss: 0.5575 - accuracy: 0.7210 - val_loss: 0.7497 - val_accuracy: 0.5333\n",
            "Epoch 7/50\n",
            "38/38 [==============================] - 0s 8ms/step - loss: 0.5529 - accuracy: 0.7285 - val_loss: 0.8738 - val_accuracy: 0.3133\n",
            "Epoch 8/50\n",
            "38/38 [==============================] - 0s 8ms/step - loss: 0.5414 - accuracy: 0.7256 - val_loss: 0.6187 - val_accuracy: 0.6125\n",
            "Epoch 9/50\n",
            "38/38 [==============================] - 0s 8ms/step - loss: 0.5718 - accuracy: 0.7223 - val_loss: 0.9069 - val_accuracy: 0.4508\n",
            "Epoch 10/50\n",
            "38/38 [==============================] - 0s 8ms/step - loss: 0.5466 - accuracy: 0.7335 - val_loss: 0.7680 - val_accuracy: 0.5367\n",
            "Epoch 11/50\n",
            "38/38 [==============================] - 0s 9ms/step - loss: 0.5345 - accuracy: 0.7406 - val_loss: 0.7397 - val_accuracy: 0.5492\n",
            "Epoch 12/50\n",
            "38/38 [==============================] - 0s 8ms/step - loss: 0.5175 - accuracy: 0.7481 - val_loss: 0.8252 - val_accuracy: 0.4783\n",
            "Epoch 13/50\n",
            "38/38 [==============================] - 0s 9ms/step - loss: 0.5111 - accuracy: 0.7548 - val_loss: 0.9361 - val_accuracy: 0.2908\n",
            "Epoch 14/50\n",
            "38/38 [==============================] - 0s 8ms/step - loss: 0.5093 - accuracy: 0.7592 - val_loss: 0.8530 - val_accuracy: 0.4108\n",
            "Epoch 15/50\n",
            "38/38 [==============================] - 0s 8ms/step - loss: 0.4747 - accuracy: 0.7812 - val_loss: 0.7760 - val_accuracy: 0.4633\n",
            "Epoch 16/50\n",
            "38/38 [==============================] - 0s 9ms/step - loss: 0.4982 - accuracy: 0.7852 - val_loss: 0.6379 - val_accuracy: 0.6050\n",
            "Epoch 17/50\n",
            "38/38 [==============================] - 0s 8ms/step - loss: 0.4518 - accuracy: 0.8079 - val_loss: 0.7127 - val_accuracy: 0.4958\n",
            "Epoch 18/50\n",
            "38/38 [==============================] - 0s 8ms/step - loss: 0.4913 - accuracy: 0.7788 - val_loss: 1.0600 - val_accuracy: 0.4567\n",
            "Epoch 19/50\n",
            "38/38 [==============================] - 0s 9ms/step - loss: 0.4782 - accuracy: 0.7831 - val_loss: 0.3592 - val_accuracy: 0.7875\n",
            "Epoch 20/50\n",
            "38/38 [==============================] - 0s 8ms/step - loss: 0.3955 - accuracy: 0.8377 - val_loss: 0.5785 - val_accuracy: 0.6625\n",
            "Epoch 21/50\n",
            "38/38 [==============================] - 0s 8ms/step - loss: 0.3548 - accuracy: 0.8496 - val_loss: 0.5330 - val_accuracy: 0.7267\n",
            "Epoch 22/50\n",
            "38/38 [==============================] - 0s 8ms/step - loss: 0.2850 - accuracy: 0.8906 - val_loss: 0.3653 - val_accuracy: 0.8150\n",
            "Epoch 23/50\n",
            "38/38 [==============================] - 0s 8ms/step - loss: 0.2760 - accuracy: 0.8894 - val_loss: 0.3530 - val_accuracy: 0.8575\n",
            "Epoch 24/50\n",
            "38/38 [==============================] - 0s 8ms/step - loss: 0.2656 - accuracy: 0.8946 - val_loss: 0.5333 - val_accuracy: 0.7642\n",
            "Epoch 25/50\n",
            "38/38 [==============================] - 0s 9ms/step - loss: 0.2339 - accuracy: 0.9085 - val_loss: 0.2771 - val_accuracy: 0.8675\n",
            "Epoch 26/50\n",
            "38/38 [==============================] - 0s 9ms/step - loss: 0.2169 - accuracy: 0.9225 - val_loss: 0.2703 - val_accuracy: 0.8767\n",
            "Epoch 27/50\n",
            "38/38 [==============================] - 0s 9ms/step - loss: 0.2099 - accuracy: 0.9223 - val_loss: 0.3629 - val_accuracy: 0.8300\n",
            "Epoch 28/50\n",
            "38/38 [==============================] - 0s 9ms/step - loss: 0.2088 - accuracy: 0.9206 - val_loss: 0.4639 - val_accuracy: 0.7775\n",
            "Epoch 29/50\n",
            "38/38 [==============================] - 0s 9ms/step - loss: 0.2000 - accuracy: 0.9231 - val_loss: 0.3135 - val_accuracy: 0.8592\n",
            "Epoch 30/50\n",
            "38/38 [==============================] - 0s 8ms/step - loss: 0.1634 - accuracy: 0.9396 - val_loss: 0.6161 - val_accuracy: 0.7775\n",
            "Epoch 31/50\n",
            "38/38 [==============================] - 0s 8ms/step - loss: 0.1877 - accuracy: 0.9279 - val_loss: 0.2765 - val_accuracy: 0.8758\n",
            "Epoch 32/50\n",
            "38/38 [==============================] - 0s 9ms/step - loss: 0.1572 - accuracy: 0.9433 - val_loss: 0.2241 - val_accuracy: 0.9000\n",
            "Epoch 33/50\n",
            "38/38 [==============================] - 0s 8ms/step - loss: 0.1553 - accuracy: 0.9438 - val_loss: 0.1965 - val_accuracy: 0.9050\n",
            "Epoch 34/50\n",
            "38/38 [==============================] - 0s 8ms/step - loss: 0.1529 - accuracy: 0.9465 - val_loss: 0.2935 - val_accuracy: 0.8792\n",
            "Epoch 35/50\n",
            "38/38 [==============================] - 0s 8ms/step - loss: 0.1392 - accuracy: 0.9506 - val_loss: 0.2969 - val_accuracy: 0.8742\n",
            "Epoch 36/50\n",
            "38/38 [==============================] - 0s 8ms/step - loss: 0.1345 - accuracy: 0.9508 - val_loss: 0.1712 - val_accuracy: 0.9225\n",
            "Epoch 37/50\n",
            "38/38 [==============================] - 0s 9ms/step - loss: 0.1364 - accuracy: 0.9527 - val_loss: 0.1537 - val_accuracy: 0.9375\n",
            "Epoch 38/50\n",
            "38/38 [==============================] - 0s 8ms/step - loss: 0.1332 - accuracy: 0.9494 - val_loss: 0.3421 - val_accuracy: 0.8533\n",
            "Epoch 39/50\n",
            "38/38 [==============================] - 0s 8ms/step - loss: 0.1370 - accuracy: 0.9496 - val_loss: 0.2211 - val_accuracy: 0.9092\n",
            "Epoch 40/50\n",
            "38/38 [==============================] - 0s 9ms/step - loss: 0.1289 - accuracy: 0.9504 - val_loss: 0.1444 - val_accuracy: 0.9508\n",
            "Epoch 41/50\n",
            "38/38 [==============================] - 0s 8ms/step - loss: 0.1295 - accuracy: 0.9544 - val_loss: 0.2509 - val_accuracy: 0.9033\n",
            "Epoch 42/50\n",
            "38/38 [==============================] - 0s 8ms/step - loss: 0.1344 - accuracy: 0.9550 - val_loss: 0.2303 - val_accuracy: 0.8992\n",
            "Epoch 43/50\n",
            "38/38 [==============================] - 0s 8ms/step - loss: 0.1078 - accuracy: 0.9627 - val_loss: 0.2767 - val_accuracy: 0.9000\n",
            "Epoch 44/50\n",
            "38/38 [==============================] - 0s 8ms/step - loss: 0.0916 - accuracy: 0.9704 - val_loss: 0.1952 - val_accuracy: 0.9258\n",
            "Epoch 45/50\n",
            "38/38 [==============================] - 0s 9ms/step - loss: 0.1027 - accuracy: 0.9663 - val_loss: 0.3212 - val_accuracy: 0.8892\n",
            "Epoch 46/50\n",
            "38/38 [==============================] - 0s 9ms/step - loss: 0.1183 - accuracy: 0.9560 - val_loss: 0.2166 - val_accuracy: 0.9117\n",
            "Epoch 47/50\n",
            "38/38 [==============================] - 0s 9ms/step - loss: 0.0977 - accuracy: 0.9648 - val_loss: 0.3397 - val_accuracy: 0.8858\n",
            "Epoch 48/50\n",
            "38/38 [==============================] - 0s 8ms/step - loss: 0.1178 - accuracy: 0.9577 - val_loss: 0.1520 - val_accuracy: 0.9383\n",
            "Epoch 49/50\n",
            "38/38 [==============================] - 0s 8ms/step - loss: 0.1174 - accuracy: 0.9602 - val_loss: 0.2146 - val_accuracy: 0.9258\n",
            "Epoch 50/50\n",
            "38/38 [==============================] - 0s 9ms/step - loss: 0.0891 - accuracy: 0.9712 - val_loss: 0.2076 - val_accuracy: 0.9175\n"
          ]
        },
        {
          "output_type": "execute_result",
          "data": {
            "text/plain": [
              "<keras.callbacks.History at 0x7f91256f98b0>"
            ]
          },
          "metadata": {},
          "execution_count": 119
        }
      ]
    },
    {
      "cell_type": "code",
      "source": [],
      "metadata": {
        "id": "n9zw91mMM_u1"
      },
      "execution_count": 119,
      "outputs": []
    },
    {
      "cell_type": "markdown",
      "source": [
        "##### 테스트"
      ],
      "metadata": {
        "id": "obmmjh5oPdHC"
      }
    },
    {
      "cell_type": "code",
      "source": [
        "output = model.predict(x_test) # predict() 예측\n",
        "output = np.argmax(output,1) # argmax() 십진수 형태로 변환\n",
        "\n",
        "y_test = np.argmax(y_test,1)  # argmax() 십진수 형태로 변환\n",
        "\n",
        "sum(np.equal(y_test,output))/len(y_test) # equal() 각 요소 비교, sum() 합계 / 나누기 len() 문자열 길이"
      ],
      "metadata": {
        "colab": {
          "base_uri": "https://localhost:8080/"
        },
        "id": "HYUaNrvzjcXA",
        "outputId": "a4f3120c-0dd9-4c39-9eb0-35c1a3c19ea4"
      },
      "execution_count": 120,
      "outputs": [
        {
          "output_type": "stream",
          "name": "stdout",
          "text": [
            "63/63 [==============================] - 1s 3ms/step\n"
          ]
        },
        {
          "output_type": "execute_result",
          "data": {
            "text/plain": [
              "0.9575"
            ]
          },
          "metadata": {},
          "execution_count": 120
        }
      ]
    },
    {
      "cell_type": "code",
      "source": [
        "output == y_test # 두 데이터 비교"
      ],
      "metadata": {
        "id": "Vl2JKkO0kXbi",
        "colab": {
          "base_uri": "https://localhost:8080/"
        },
        "outputId": "9225b80b-7567-412d-fa21-e87dbd8a66d3"
      },
      "execution_count": 121,
      "outputs": [
        {
          "output_type": "execute_result",
          "data": {
            "text/plain": [
              "array([ True,  True,  True, ...,  True,  True,  True])"
            ]
          },
          "metadata": {},
          "execution_count": 121
        }
      ]
    },
    {
      "cell_type": "code",
      "source": [
        "sum(output == y_test) / len(output) * 100  # 정확도 계산"
      ],
      "metadata": {
        "colab": {
          "base_uri": "https://localhost:8080/"
        },
        "id": "EOSw6VysQUPq",
        "outputId": "03a1bcac-d48f-45c3-f248-56280fc71fe2"
      },
      "execution_count": 122,
      "outputs": [
        {
          "output_type": "execute_result",
          "data": {
            "text/plain": [
              "95.75"
            ]
          },
          "metadata": {},
          "execution_count": 122
        }
      ]
    },
    {
      "cell_type": "code",
      "source": [],
      "metadata": {
        "id": "5adAciqqQb_H"
      },
      "execution_count": 122,
      "outputs": []
    }
  ]
}